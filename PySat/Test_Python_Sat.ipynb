{
 "cells": [
  {
   "cell_type": "code",
   "execution_count": 6,
   "metadata": {},
   "outputs": [],
   "source": [
    "import pysat"
   ]
  },
  {
   "cell_type": "code",
   "execution_count": 7,
   "metadata": {},
   "outputs": [],
   "source": [
    "pysat.utils.set_data_dir(path='/Users/satyajeetpradhan/AdvPython/PySat_Data')"
   ]
  },
  {
   "cell_type": "code",
   "execution_count": 8,
   "metadata": {},
   "outputs": [],
   "source": [
    "vefi = pysat.Instrument(platform='cnofs', name='vefi', tag='dc_b')"
   ]
  },
  {
   "cell_type": "code",
   "execution_count": 9,
   "metadata": {},
   "outputs": [
    {
     "name": "stdout",
     "output_type": "stream",
     "text": [
      "pysat is searching for cnofs ivm files.\n",
      "Unable to find any files that match the supplied template. If you have the necessary files please check pysat settings and file locations (e.g. pysat.pysat_dir).\n"
     ]
    }
   ],
   "source": [
    "ivm = pysat.Instrument(platform='cnofs', name='ivm')"
   ]
  },
  {
   "cell_type": "code",
   "execution_count": null,
   "metadata": {},
   "outputs": [],
   "source": [
    "# electron density profiles\n",
    "#cosmic = pysat.Instrument(platform='cosmic2013', name='gps', tag='ionprf') # atmosphere profiles\n",
    "#cosmic = pysat.Instrument(platform='cosmic2013', name='gps', tag='atmprf')"
   ]
  },
  {
   "cell_type": "code",
   "execution_count": null,
   "metadata": {},
   "outputs": [],
   "source": [
    "help(cosmic.download)"
   ]
  },
  {
   "cell_type": "code",
   "execution_count": 5,
   "metadata": {},
   "outputs": [
    {
     "name": "stdout",
     "output_type": "stream",
     "text": [
      "Downloading data to:  /Users/satyajeetpradhan/AdvPython/PySat_Data/cnofs/vefi/dc_b/\n",
      "Attempting to download file for 05/06/09\n",
      "Finished.\n",
      "Attempting to download file for 05/07/09\n",
      "Finished.\n",
      "Attempting to download file for 05/08/09\n",
      "Finished.\n",
      "Attempting to download file for 05/09/09\n",
      "Finished.\n",
      "Updating pysat file list\n",
      "pysat is searching for cnofs vefi dc_b files.\n",
      "Found 4 of them.\n",
      "Updating instrument object bounds.\n"
     ]
    },
    {
     "name": "stderr",
     "output_type": "stream",
     "text": [
      "/anaconda2/lib/python2.7/site-packages/pysat/_files.py:582: FutureWarning: 'get_duplicates' is deprecated and will be removed in a future release. You can use idx[idx.duplicated()].unique() instead\n",
      "  dups = index.get_duplicates()\n"
     ]
    },
    {
     "ename": "NameError",
     "evalue": "name 'cosmic' is not defined",
     "output_type": "error",
     "traceback": [
      "\u001b[0;31m---------------------------------------------------------------------------\u001b[0m",
      "\u001b[0;31mNameError\u001b[0m                                 Traceback (most recent call last)",
      "\u001b[0;32m<ipython-input-5-5a010439cf7e>\u001b[0m in \u001b[0;36m<module>\u001b[0;34m()\u001b[0m\n\u001b[1;32m      4\u001b[0m \u001b[0mvefi\u001b[0m\u001b[0;34m.\u001b[0m\u001b[0mdownload\u001b[0m\u001b[0;34m(\u001b[0m\u001b[0mstart\u001b[0m\u001b[0;34m,\u001b[0m \u001b[0mstop\u001b[0m\u001b[0;34m)\u001b[0m\u001b[0;34m\u001b[0m\u001b[0m\n\u001b[1;32m      5\u001b[0m \u001b[0;31m# download COSMIC data, which requires username and password\u001b[0m\u001b[0;34m\u001b[0m\u001b[0;34m\u001b[0m\u001b[0m\n\u001b[0;32m----> 6\u001b[0;31m \u001b[0mcosmic\u001b[0m\u001b[0;34m.\u001b[0m\u001b[0mdownload\u001b[0m\u001b[0;34m(\u001b[0m\u001b[0mstart\u001b[0m\u001b[0;34m,\u001b[0m \u001b[0mstop\u001b[0m\u001b[0;34m,\u001b[0m \u001b[0muser\u001b[0m\u001b[0;34m=\u001b[0m\u001b[0;34m'satyajeet.pradhan'\u001b[0m\u001b[0;34m,\u001b[0m \u001b[0mpassword\u001b[0m\u001b[0;34m=\u001b[0m\u001b[0;34m'TodaySummer9'\u001b[0m\u001b[0;34m)\u001b[0m\u001b[0;34m\u001b[0m\u001b[0m\n\u001b[0m",
      "\u001b[0;31mNameError\u001b[0m: name 'cosmic' is not defined"
     ]
    }
   ],
   "source": [
    "# define date range to download data and download\n",
    "start = pysat.datetime(2009,5,6)\n",
    "stop = pysat.datetime(2009,5,9)\n",
    "vefi.download(start, stop)\n",
    "# download COSMIC data, which requires username and password\n",
    "cosmic.download(start, stop, user='satyajeet.pradhan', password='TodaySummer9')"
   ]
  },
  {
   "cell_type": "code",
   "execution_count": null,
   "metadata": {},
   "outputs": [],
   "source": []
  }
 ],
 "metadata": {
  "kernelspec": {
   "display_name": "Python 2",
   "language": "python",
   "name": "python2"
  },
  "language_info": {
   "codemirror_mode": {
    "name": "ipython",
    "version": 2
   },
   "file_extension": ".py",
   "mimetype": "text/x-python",
   "name": "python",
   "nbconvert_exporter": "python",
   "pygments_lexer": "ipython2",
   "version": "2.7.15"
  }
 },
 "nbformat": 4,
 "nbformat_minor": 2
}
